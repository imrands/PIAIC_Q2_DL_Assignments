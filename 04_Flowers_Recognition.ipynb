{
 "cells": [
  {
   "cell_type": "code",
   "execution_count": 1,
   "metadata": {
    "id": "MHeMvFpkR-Oe"
   },
   "outputs": [],
   "source": [
    "import numpy as np\n",
    "import pandas as pd\n",
    "import tensorflow as tf\n",
    "from tensorflow.keras import models\n",
    "from tensorflow.keras import layers\n",
    "from tensorflow.keras.preprocessing.image import ImageDataGenerator\n",
    "from tensorflow.keras.models import Sequential\n",
    "from tensorflow.keras.layers import Dense, Flatten\n",
    "from tensorflow.keras.optimizers import RMSprop\n"
   ]
  },
  {
   "cell_type": "markdown",
   "metadata": {},
   "source": [
    "# Data Loading & Preprocessing"
   ]
  },
  {
   "cell_type": "code",
   "execution_count": 2,
   "metadata": {
    "colab": {
     "base_uri": "https://localhost:8080/"
    },
    "id": "gu8R1NyOv9Gv",
    "outputId": "2012785e-c9d0-470f-8721-f3cd0e984991"
   },
   "outputs": [
    {
     "name": "stdout",
     "output_type": "stream",
     "text": [
      "Found 3028 images belonging to 5 classes.\n",
      "Found 1295 images belonging to 5 classes.\n"
     ]
    }
   ],
   "source": [
    "val_batch = 10\n",
    "train_batch = 32\n",
    "train_datagen = ImageDataGenerator(\n",
    "        rescale=1./255,\n",
    "        validation_split=0.30,\n",
    "        )\n",
    "train_generator = train_datagen.flow_from_directory(\n",
    "        './datasets/flowers',\n",
    "        target_size=(80, 80),\n",
    "        batch_size=train_batch,\n",
    "        class_mode='categorical',\n",
    "        subset = 'training',\n",
    "        color_mode = 'grayscale',\n",
    "        shuffle = True,\n",
    "        )\n",
    "validation_generator = train_datagen.flow_from_directory(\n",
    "        './datasets/flowers',\n",
    "        target_size=(80, 80),\n",
    "        batch_size=val_batch,\n",
    "        class_mode='categorical',\n",
    "        subset = 'validation',\n",
    "        color_mode = 'grayscale',\n",
    "        shuffle= True)\n"
   ]
  },
  {
   "cell_type": "code",
   "execution_count": 3,
   "metadata": {
    "colab": {
     "base_uri": "https://localhost:8080/"
    },
    "id": "RR13ZEf7-zus",
    "outputId": "2f6845c0-9df3-43ca-f72b-fda785cc3f7d"
   },
   "outputs": [
    {
     "data": {
      "text/plain": [
       "{'daisy': 0, 'dandelion': 1, 'rose': 2, 'sunflower': 3, 'tulip': 4}"
      ]
     },
     "execution_count": 3,
     "metadata": {},
     "output_type": "execute_result"
    }
   ],
   "source": [
    "train_generator.class_indices"
   ]
  },
  {
   "cell_type": "code",
   "execution_count": 4,
   "metadata": {
    "colab": {
     "base_uri": "https://localhost:8080/"
    },
    "id": "LqDb5wQt9NSe",
    "outputId": "018c928c-f59e-472d-91af-d1feceff2d3e"
   },
   "outputs": [
    {
     "data": {
      "text/plain": [
       "tensorflow.python.keras.preprocessing.image.ImageDataGenerator"
      ]
     },
     "execution_count": 4,
     "metadata": {},
     "output_type": "execute_result"
    }
   ],
   "source": [
    "type(train_datagen)"
   ]
  },
  {
   "cell_type": "code",
   "execution_count": 5,
   "metadata": {},
   "outputs": [
    {
     "data": {
      "text/plain": [
       "tensorflow.python.keras.preprocessing.image.DirectoryIterator"
      ]
     },
     "execution_count": 5,
     "metadata": {},
     "output_type": "execute_result"
    }
   ],
   "source": [
    "type(train_generator)"
   ]
  },
  {
   "cell_type": "code",
   "execution_count": 6,
   "metadata": {
    "colab": {
     "base_uri": "https://localhost:8080/"
    },
    "id": "I0JAwzvh9blZ",
    "outputId": "dfcf9483-63c5-4b2a-a8b1-f196f21ad185"
   },
   "outputs": [
    {
     "data": {
      "text/plain": [
       "(32, 5)"
      ]
     },
     "execution_count": 6,
     "metadata": {},
     "output_type": "execute_result"
    }
   ],
   "source": [
    "train_generator[31][1].shape"
   ]
  },
  {
   "cell_type": "markdown",
   "metadata": {},
   "source": [
    "# DL Model"
   ]
  },
  {
   "cell_type": "code",
   "execution_count": 7,
   "metadata": {
    "id": "MECEactbpYY2"
   },
   "outputs": [],
   "source": [
    "model = models.Sequential()\n",
    "model.add(layers.Flatten())\n",
    "model.add(layers.Dense(512, activation='relu'))\n",
    "model.add(layers.Dense(256, activation='relu'))\n",
    "model.add(layers.Dense(5,  activation='softmax'))"
   ]
  },
  {
   "cell_type": "code",
   "execution_count": 8,
   "metadata": {
    "id": "2QFL7tA4D0Sa"
   },
   "outputs": [],
   "source": [
    "model.compile(optimizer='rmsprop',\n",
    "loss='categorical_crossentropy',\n",
    "metrics=['accuracy'])"
   ]
  },
  {
   "cell_type": "code",
   "execution_count": 9,
   "metadata": {
    "colab": {
     "base_uri": "https://localhost:8080/"
    },
    "id": "mwG7_qctxUBl",
    "outputId": "a657cddc-ae3a-4e12-bd0e-8bf0f672af9e"
   },
   "outputs": [
    {
     "name": "stdout",
     "output_type": "stream",
     "text": [
      "Epoch 1/50\n",
      "20/20 [==============================] - 9s 437ms/step - loss: 11.2810 - accuracy: 0.2044 - val_loss: 2.5716 - val_accuracy: 0.2456\n",
      "Epoch 2/50\n",
      "20/20 [==============================] - 7s 365ms/step - loss: 2.2352 - accuracy: 0.2371 - val_loss: 2.4736 - val_accuracy: 0.2417\n",
      "Epoch 3/50\n",
      "20/20 [==============================] - 7s 359ms/step - loss: 2.1927 - accuracy: 0.2181 - val_loss: 1.7773 - val_accuracy: 0.2432\n",
      "Epoch 4/50\n",
      "20/20 [==============================] - 7s 363ms/step - loss: 1.8480 - accuracy: 0.1840 - val_loss: 1.6780 - val_accuracy: 0.2440\n",
      "Epoch 5/50\n",
      "20/20 [==============================] - 7s 369ms/step - loss: 1.6504 - accuracy: 0.2637 - val_loss: 1.6443 - val_accuracy: 0.2432\n",
      "Epoch 6/50\n",
      "20/20 [==============================] - 8s 429ms/step - loss: 1.6991 - accuracy: 0.2591 - val_loss: 1.6778 - val_accuracy: 0.2463\n",
      "Epoch 7/50\n",
      "20/20 [==============================] - 8s 437ms/step - loss: 1.6920 - accuracy: 0.2491 - val_loss: 1.7347 - val_accuracy: 0.2641\n",
      "Epoch 8/50\n",
      "20/20 [==============================] - 8s 434ms/step - loss: 1.5536 - accuracy: 0.2993 - val_loss: 1.6999 - val_accuracy: 0.2116\n",
      "Epoch 9/50\n",
      "20/20 [==============================] - 8s 421ms/step - loss: 1.5727 - accuracy: 0.2828 - val_loss: 1.5845 - val_accuracy: 0.2579\n",
      "Epoch 10/50\n",
      "20/20 [==============================] - 7s 362ms/step - loss: 1.5959 - accuracy: 0.2648 - val_loss: 1.5628 - val_accuracy: 0.2533\n",
      "Epoch 11/50\n",
      "20/20 [==============================] - 7s 357ms/step - loss: 1.5681 - accuracy: 0.2656 - val_loss: 1.9518 - val_accuracy: 0.2139\n",
      "Epoch 12/50\n",
      "20/20 [==============================] - 7s 366ms/step - loss: 1.6062 - accuracy: 0.2457 - val_loss: 1.5690 - val_accuracy: 0.2664\n",
      "Epoch 13/50\n",
      "20/20 [==============================] - 7s 368ms/step - loss: 1.5379 - accuracy: 0.2895 - val_loss: 1.5246 - val_accuracy: 0.3066\n",
      "Epoch 14/50\n",
      "20/20 [==============================] - 8s 388ms/step - loss: 1.5549 - accuracy: 0.2994 - val_loss: 1.5549 - val_accuracy: 0.3073\n",
      "Epoch 15/50\n",
      "20/20 [==============================] - 7s 363ms/step - loss: 1.5592 - accuracy: 0.2462 - val_loss: 1.6078 - val_accuracy: 0.2672\n",
      "Epoch 16/50\n",
      "20/20 [==============================] - 7s 361ms/step - loss: 1.5388 - accuracy: 0.3141 - val_loss: 1.5707 - val_accuracy: 0.2865\n",
      "Epoch 17/50\n",
      "20/20 [==============================] - 7s 362ms/step - loss: 1.5234 - accuracy: 0.3110 - val_loss: 1.7144 - val_accuracy: 0.2293\n",
      "Epoch 18/50\n",
      "20/20 [==============================] - 7s 368ms/step - loss: 1.5474 - accuracy: 0.2901 - val_loss: 1.5370 - val_accuracy: 0.2965\n",
      "Epoch 19/50\n",
      "20/20 [==============================] - 7s 378ms/step - loss: 1.5123 - accuracy: 0.3461 - val_loss: 1.5450 - val_accuracy: 0.2710\n",
      "Epoch 20/50\n",
      "20/20 [==============================] - 7s 362ms/step - loss: 1.5636 - accuracy: 0.3232 - val_loss: 1.5492 - val_accuracy: 0.2880\n",
      "Epoch 21/50\n",
      "20/20 [==============================] - 7s 359ms/step - loss: 1.5817 - accuracy: 0.2497 - val_loss: 1.5887 - val_accuracy: 0.2795\n",
      "Epoch 22/50\n",
      "20/20 [==============================] - 8s 409ms/step - loss: 1.5505 - accuracy: 0.3311 - val_loss: 1.5482 - val_accuracy: 0.2826\n",
      "Epoch 23/50\n",
      "20/20 [==============================] - 8s 431ms/step - loss: 1.5084 - accuracy: 0.2854 - val_loss: 1.7082 - val_accuracy: 0.2533\n",
      "Epoch 24/50\n",
      "20/20 [==============================] - 8s 432ms/step - loss: 1.5397 - accuracy: 0.2870 - val_loss: 1.5618 - val_accuracy: 0.2880\n",
      "Epoch 25/50\n",
      "20/20 [==============================] - 8s 434ms/step - loss: 1.5649 - accuracy: 0.2833 - val_loss: 1.5473 - val_accuracy: 0.2687\n",
      "Epoch 26/50\n",
      "20/20 [==============================] - 7s 361ms/step - loss: 1.5447 - accuracy: 0.3088 - val_loss: 1.5508 - val_accuracy: 0.2780\n",
      "Epoch 27/50\n",
      "20/20 [==============================] - 7s 366ms/step - loss: 1.5298 - accuracy: 0.3038 - val_loss: 1.6560 - val_accuracy: 0.2826\n",
      "Epoch 28/50\n",
      "20/20 [==============================] - 7s 358ms/step - loss: 1.5551 - accuracy: 0.2823 - val_loss: 1.5380 - val_accuracy: 0.3027\n",
      "Epoch 29/50\n",
      "20/20 [==============================] - 7s 372ms/step - loss: 1.4932 - accuracy: 0.3172 - val_loss: 1.5736 - val_accuracy: 0.3027\n",
      "Epoch 30/50\n",
      "20/20 [==============================] - 8s 412ms/step - loss: 1.4911 - accuracy: 0.3116 - val_loss: 1.5856 - val_accuracy: 0.2958\n",
      "Epoch 31/50\n",
      "20/20 [==============================] - 7s 364ms/step - loss: 1.5216 - accuracy: 0.3017 - val_loss: 1.5606 - val_accuracy: 0.2880\n",
      "Epoch 32/50\n",
      "20/20 [==============================] - 7s 358ms/step - loss: 1.5104 - accuracy: 0.3122 - val_loss: 1.5357 - val_accuracy: 0.3035\n",
      "Epoch 33/50\n",
      "20/20 [==============================] - 7s 365ms/step - loss: 1.4620 - accuracy: 0.3903 - val_loss: 1.5367 - val_accuracy: 0.2911\n",
      "Epoch 34/50\n",
      "20/20 [==============================] - 8s 399ms/step - loss: 1.4905 - accuracy: 0.3310 - val_loss: 1.5560 - val_accuracy: 0.2996\n",
      "Epoch 35/50\n",
      "20/20 [==============================] - 7s 362ms/step - loss: 1.5113 - accuracy: 0.2784 - val_loss: 1.6333 - val_accuracy: 0.2525\n",
      "Epoch 36/50\n",
      "20/20 [==============================] - 7s 368ms/step - loss: 1.5250 - accuracy: 0.3003 - val_loss: 1.6501 - val_accuracy: 0.2834\n",
      "Epoch 37/50\n",
      "20/20 [==============================] - 7s 373ms/step - loss: 1.5019 - accuracy: 0.3161 - val_loss: 1.5579 - val_accuracy: 0.2958\n",
      "Epoch 38/50\n",
      "20/20 [==============================] - 8s 424ms/step - loss: 1.4680 - accuracy: 0.3618 - val_loss: 1.5485 - val_accuracy: 0.3050\n",
      "Epoch 39/50\n",
      "20/20 [==============================] - 9s 456ms/step - loss: 1.4872 - accuracy: 0.3536 - val_loss: 1.5501 - val_accuracy: 0.3058\n",
      "Epoch 40/50\n",
      "20/20 [==============================] - 10s 505ms/step - loss: 1.4694 - accuracy: 0.3567 - val_loss: 1.5647 - val_accuracy: 0.2981\n",
      "Epoch 41/50\n",
      "20/20 [==============================] - 8s 427ms/step - loss: 1.4648 - accuracy: 0.3532 - val_loss: 1.6597 - val_accuracy: 0.2633\n",
      "Epoch 42/50\n",
      "20/20 [==============================] - 7s 359ms/step - loss: 1.4614 - accuracy: 0.3573 - val_loss: 1.5881 - val_accuracy: 0.3019\n",
      "Epoch 43/50\n",
      "20/20 [==============================] - 8s 398ms/step - loss: 1.4697 - accuracy: 0.3649 - val_loss: 1.6649 - val_accuracy: 0.2911\n",
      "Epoch 44/50\n",
      "20/20 [==============================] - 8s 398ms/step - loss: 1.4741 - accuracy: 0.3432 - val_loss: 1.6310 - val_accuracy: 0.2888\n",
      "Epoch 45/50\n",
      "20/20 [==============================] - 7s 381ms/step - loss: 1.4588 - accuracy: 0.3518 - val_loss: 1.5943 - val_accuracy: 0.3151\n",
      "Epoch 46/50\n",
      "20/20 [==============================] - 8s 391ms/step - loss: 1.4235 - accuracy: 0.3885 - val_loss: 1.6246 - val_accuracy: 0.2973\n",
      "Epoch 47/50\n",
      "20/20 [==============================] - 7s 374ms/step - loss: 1.4404 - accuracy: 0.3798 - val_loss: 1.6220 - val_accuracy: 0.2278\n",
      "Epoch 48/50\n",
      "20/20 [==============================] - 8s 390ms/step - loss: 1.4832 - accuracy: 0.3207 - val_loss: 1.5863 - val_accuracy: 0.3189\n",
      "Epoch 49/50\n",
      "20/20 [==============================] - 7s 365ms/step - loss: 1.4235 - accuracy: 0.4019 - val_loss: 1.6000 - val_accuracy: 0.2934\n",
      "Epoch 50/50\n",
      "20/20 [==============================] - 8s 388ms/step - loss: 1.4243 - accuracy: 0.3674 - val_loss: 1.6256 - val_accuracy: 0.2888\n"
     ]
    }
   ],
   "source": [
    "with tf.device('/device:GPU:0'):\n",
    "    result = model.fit(\n",
    "          train_generator,\n",
    "          steps_per_epoch = 20,\n",
    "          batch_size = train_batch,\n",
    "          validation_data = validation_generator,\n",
    "          validation_batch_size= val_batch,\n",
    "          epochs=50)"
   ]
  },
  {
   "cell_type": "markdown",
   "metadata": {},
   "source": [
    "# Evaluation, Prediction & Graphs (Accurac, Loss)"
   ]
  },
  {
   "cell_type": "code",
   "execution_count": 10,
   "metadata": {
    "colab": {
     "base_uri": "https://localhost:8080/"
    },
    "id": "kAMVOUBUhcj9",
    "outputId": "db434bb6-e8e4-472f-bdc7-cb037b48335b"
   },
   "outputs": [
    {
     "name": "stdout",
     "output_type": "stream",
     "text": [
      "130/130 [==============================] - 5s 39ms/step - loss: 1.6256 - accuracy: 0.2888\n"
     ]
    },
    {
     "data": {
      "text/plain": [
       "[1.6255884170532227, 0.2888031005859375]"
      ]
     },
     "execution_count": 10,
     "metadata": {},
     "output_type": "execute_result"
    }
   ],
   "source": [
    "model.evaluate(validation_generator)"
   ]
  },
  {
   "cell_type": "code",
   "execution_count": 11,
   "metadata": {
    "colab": {
     "base_uri": "https://localhost:8080/"
    },
    "id": "Ufw4FqsmU-g2",
    "outputId": "8f3fdd61-6da5-452f-e187-73ff2c55f313"
   },
   "outputs": [
    {
     "data": {
      "text/plain": [
       "dict_keys(['loss', 'accuracy', 'val_loss', 'val_accuracy'])"
      ]
     },
     "execution_count": 11,
     "metadata": {},
     "output_type": "execute_result"
    }
   ],
   "source": [
    "x = result.history.keys()\n",
    "x"
   ]
  },
  {
   "cell_type": "code",
   "execution_count": 12,
   "metadata": {
    "colab": {
     "base_uri": "https://localhost:8080/",
     "height": 573
    },
    "id": "dOKPsS3HWwUn",
    "outputId": "2abfc7a2-821f-43a7-bf5b-7c88fd80c488"
   },
   "outputs": [
    {
     "data": {
      "image/png": "[encoded data removed]",
      "text/plain": [
       "<Figure size 432x288 with 1 Axes>"
      ]
     },
     "metadata": {
      "needs_background": "light"
     },
     "output_type": "display_data"
    },
    {
     "data": {
      "image/png": "[encoded data removed]",
      "text/plain": [
       "<Figure size 432x288 with 1 Axes>"
      ]
     },
     "metadata": {
      "needs_background": "light"
     },
     "output_type": "display_data"
    }
   ],
   "source": [
    "\n",
    "# Visualize training history\n",
    "from keras.models import Sequential\n",
    "from keras.layers import Dense\n",
    "import matplotlib.pyplot as plt\n",
    "import numpy\n",
    "plt.plot(result.history['accuracy'])\n",
    "plt.plot(result.history['val_accuracy'])\n",
    "plt.title('model accuracy')\n",
    "plt.ylabel('accuracy')\n",
    "plt.xlabel('epoch')\n",
    "plt.legend(['train', 'test'], loc='upper left')\n",
    "plt.show()\n",
    "# summarize history for loss\n",
    "plt.plot(result.history['loss'])\n",
    "plt.plot(result.history['val_loss'])\n",
    "plt.title('model loss')\n",
    "plt.ylabel('loss')\n",
    "plt.xlabel('epoch')\n",
    "plt.legend(['train', 'test'], loc='upper left')\n",
    "plt.show()"
   ]
  },
  {
   "cell_type": "code",
   "execution_count": 13,
   "metadata": {
    "id": "u7p4aMxliqvO"
   },
   "outputs": [],
   "source": [
    "y_pred1 = model.predict(validation_generator)"
   ]
  },
  {
   "cell_type": "code",
   "execution_count": 14,
   "metadata": {
    "colab": {
     "base_uri": "https://localhost:8080/"
    },
    "id": "-qhQ6JA_i0YM",
    "outputId": "9797b44c-ae92-4003-a7e8-93fb690710fa"
   },
   "outputs": [
    {
     "data": {
      "text/plain": [
       "(1295, 5)"
      ]
     },
     "execution_count": 14,
     "metadata": {},
     "output_type": "execute_result"
    }
   ],
   "source": [
    "y_pred1.shape"
   ]
  },
  {
   "cell_type": "code",
   "execution_count": 15,
   "metadata": {
    "id": "TRKNoHsBNvdR"
   },
   "outputs": [],
   "source": [
    "list1 = []\n",
    "for i in range(0,len(validation_generator)):\n",
    "    for j in range(0,val_batch):\n",
    "        try:\n",
    "              list1.append(validation_generator[i][1][j].tolist())\n",
    "        except:\n",
    "              break"
   ]
  },
  {
   "cell_type": "code",
   "execution_count": 16,
   "metadata": {
    "id": "P9u0xdNxfeHl"
   },
   "outputs": [
    {
     "data": {
      "text/plain": [
       "array([3, 0, 0, 3, 1, 0, 0, 4, 4, 3, 3, 1, 4, 4, 3], dtype=int64)"
      ]
     },
     "execution_count": 16,
     "metadata": {},
     "output_type": "execute_result"
    }
   ],
   "source": [
    "np.argmax(y_pred1, axis=1)[45:60]"
   ]
  },
  {
   "cell_type": "code",
   "execution_count": 17,
   "metadata": {
    "id": "sVy31j9On2U_"
   },
   "outputs": [
    {
     "data": {
      "text/plain": [
       "array([2, 3, 1, 1, 0, 1, 4, 4, 4, 4, 3, 2, 2, 2, 4], dtype=int64)"
      ]
     },
     "execution_count": 17,
     "metadata": {},
     "output_type": "execute_result"
    }
   ],
   "source": [
    "np.argmax(list1[45:60],axis=1)"
   ]
  },
  {
   "cell_type": "code",
   "execution_count": null,
   "metadata": {
    "id": "K-SgD9VNRfD-"
   },
   "outputs": [],
   "source": []
  }
 ],
 "metadata": {
  "accelerator": "GPU",
  "colab": {
   "collapsed_sections": [],
   "name": "flowerclassification_28_march.ipynb",
   "provenance": []
  },
  "kernelspec": {
   "display_name": "Python 3",
   "language": "python",
   "name": "python3"
  },
  "language_info": {
   "codemirror_mode": {
    "name": "ipython",
    "version": 3
   },
   "file_extension": ".py",
   "mimetype": "text/x-python",
   "name": "python",
   "nbconvert_exporter": "python",
   "pygments_lexer": "ipython3",
   "version": "3.8.3"
  }
 },
 "nbformat": 4,
 "nbformat_minor": 1
}
